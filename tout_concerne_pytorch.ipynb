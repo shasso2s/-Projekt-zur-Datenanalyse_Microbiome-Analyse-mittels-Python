{
  "nbformat": 4,
  "nbformat_minor": 0,
  "metadata": {
    "colab": {
      "name": "tout_concerne_pytorch.ipynb",
      "provenance": [],
      "toc_visible": true,
      "mount_file_id": "1OW3YkiyXDes3B9ko_I-IwdphPvnQsxQD",
      "authorship_tag": "ABX9TyNLSAeL1knJDInm6cCtr1Sr",
      "include_colab_link": true
    },
    "kernelspec": {
      "name": "python3",
      "display_name": "Python 3"
    },
    "language_info": {
      "name": "python"
    }
  },
  "cells": [
    {
      "cell_type": "markdown",
      "metadata": {
        "id": "view-in-github",
        "colab_type": "text"
      },
      "source": [
        "<a href=\"https://colab.research.google.com/github/shasso2s/-Projekt-zur-Datenanalyse_Microbiome-Analyse-mittels-Python/blob/main/tout_concerne_pytorch.ipynb\" target=\"_parent\"><img src=\"https://colab.research.google.com/assets/colab-badge.svg\" alt=\"Open In Colab\"/></a>"
      ]
    },
    {
      "cell_type": "code",
      "metadata": {
        "id": "L51STDheoXIc"
      },
      "source": [
        "import torch\n",
        "x=torch.empty(4,3, 2,3)\n"
      ],
      "execution_count": 8,
      "outputs": []
    },
    {
      "cell_type": "code",
      "metadata": {
        "id": "saPJ9SeHqSFY"
      },
      "source": [
        "x=torch.rand(2,2)"
      ],
      "execution_count": 9,
      "outputs": []
    },
    {
      "cell_type": "code",
      "metadata": {
        "colab": {
          "base_uri": "https://localhost:8080/"
        },
        "id": "MKfDCXPSqaMk",
        "outputId": "1e0f1cf4-8a11-4ca1-e815-cdca0ffee4ce"
      },
      "source": [
        "x=torch.zeros(2,2,dtype=torch.int64)\n",
        "y=torch.ones(2,2)\n",
        "print(x)\n",
        "print(x.dtype)\n",
        "print(y.size())"
      ],
      "execution_count": 10,
      "outputs": [
        {
          "output_type": "stream",
          "name": "stdout",
          "text": [
            "tensor([[0, 0],\n",
            "        [0, 0]])\n",
            "torch.int64\n",
            "torch.Size([2, 2])\n"
          ]
        }
      ]
    },
    {
      "cell_type": "code",
      "metadata": {
        "colab": {
          "base_uri": "https://localhost:8080/"
        },
        "id": "PWZiQMgwrWSo",
        "outputId": "0131f900-edc5-4f65-c164-26ecd85cbea4"
      },
      "source": [
        "x=torch.tensor([2.5,0.1])\n",
        "print(x)"
      ],
      "execution_count": 11,
      "outputs": [
        {
          "output_type": "stream",
          "name": "stdout",
          "text": [
            "tensor([2.5000, 0.1000])\n"
          ]
        }
      ]
    },
    {
      "cell_type": "code",
      "metadata": {
        "colab": {
          "base_uri": "https://localhost:8080/"
        },
        "id": "6Szje1cArrme",
        "outputId": "c622cb6a-874c-4203-d623-f7f5c6b2e212"
      },
      "source": [
        "x=torch.rand(4,4)\n",
        "print(x)\n",
        "y=x.view(16)\n",
        "print(y)\n",
        "y=x.view(-1,8)\n",
        "print(y)\n",
        "\n",
        "print(x[1,:])\n",
        "print(x[:,1])\n",
        "\n",
        "print(x[1,1])"
      ],
      "execution_count": 12,
      "outputs": [
        {
          "output_type": "stream",
          "name": "stdout",
          "text": [
            "tensor([[0.0247, 0.5057, 0.0921, 0.6061],\n",
            "        [0.9977, 0.9603, 0.1832, 0.7821],\n",
            "        [0.6881, 0.6605, 0.9225, 0.1980],\n",
            "        [0.2432, 0.1445, 0.3256, 0.2092]])\n",
            "tensor([0.0247, 0.5057, 0.0921, 0.6061, 0.9977, 0.9603, 0.1832, 0.7821, 0.6881,\n",
            "        0.6605, 0.9225, 0.1980, 0.2432, 0.1445, 0.3256, 0.2092])\n",
            "tensor([[0.0247, 0.5057, 0.0921, 0.6061, 0.9977, 0.9603, 0.1832, 0.7821],\n",
            "        [0.6881, 0.6605, 0.9225, 0.1980, 0.2432, 0.1445, 0.3256, 0.2092]])\n",
            "tensor([0.9977, 0.9603, 0.1832, 0.7821])\n",
            "tensor([0.5057, 0.9603, 0.6605, 0.1445])\n",
            "tensor(0.9603)\n"
          ]
        }
      ]
    },
    {
      "cell_type": "code",
      "metadata": {
        "colab": {
          "base_uri": "https://localhost:8080/"
        },
        "id": "NwIY8r9HwdtX",
        "outputId": "b55bff59-e1c4-49c5-c7d8-b8ac5ac20b87"
      },
      "source": [
        "import numpy as np\n",
        "x=torch.ones(5)\n",
        "print(x)\n",
        "b=x.numpy()\n",
        "print(b)\n",
        "print(type(b))\n",
        "x.add_(1)\n",
        "print(x)\n",
        "print(b)"
      ],
      "execution_count": 13,
      "outputs": [
        {
          "output_type": "stream",
          "name": "stdout",
          "text": [
            "tensor([1., 1., 1., 1., 1.])\n",
            "[1. 1. 1. 1. 1.]\n",
            "<class 'numpy.ndarray'>\n",
            "tensor([2., 2., 2., 2., 2.])\n",
            "[2. 2. 2. 2. 2.]\n"
          ]
        }
      ]
    },
    {
      "cell_type": "code",
      "metadata": {
        "id": "q_kyQjJIvbql",
        "colab": {
          "base_uri": "https://localhost:8080/"
        },
        "outputId": "0b432d61-9646-46c6-a687-48bba7a9fa1d"
      },
      "source": [
        "if torch.cuda.is_available():\n",
        "  device=torch.device(\"cuda\")\n",
        "  print(device)\n",
        "  x=torch.ones(5,dtype=float64)\n",
        "  #or\n",
        "  y=torch.ones(5)\n",
        "  y=y.to(device)\n",
        "else:\n",
        "  device=torch.device(\"cpu\")\n",
        "  print(device)\n",
        "\n"
      ],
      "execution_count": 14,
      "outputs": [
        {
          "output_type": "stream",
          "name": "stdout",
          "text": [
            "cpu\n"
          ]
        }
      ]
    },
    {
      "cell_type": "code",
      "metadata": {
        "colab": {
          "base_uri": "https://localhost:8080/"
        },
        "id": "JIyL3BMe1Q2w",
        "outputId": "0ee6031f-a43e-445d-cdec-0bd0dc755142"
      },
      "source": [
        "x=torch.randn(3,requires_grad=True)\n",
        "print(x)\n",
        "y=x+2\n",
        "print(y)\n",
        "y=y*y*2\n",
        "print(y)\n",
        "z=y.mean()\n",
        "z.backward()\n",
        "print(x.grad)\n"
      ],
      "execution_count": 15,
      "outputs": [
        {
          "output_type": "stream",
          "name": "stdout",
          "text": [
            "tensor([0.7805, 0.6305, 1.1875], requires_grad=True)\n",
            "tensor([2.7805, 2.6305, 3.1875], grad_fn=<AddBackward0>)\n",
            "tensor([15.4628, 13.8394, 20.3203], grad_fn=<MulBackward0>)\n",
            "tensor([3.7074, 3.5074, 4.2500])\n"
          ]
        }
      ]
    },
    {
      "cell_type": "code",
      "metadata": {
        "colab": {
          "base_uri": "https://localhost:8080/"
        },
        "id": "TSq0s3ZfDTZu",
        "outputId": "3f438022-cf8e-4d26-a19f-61ccb4b5c177"
      },
      "source": [
        "weights=torch.randn(4, requires_grad=True)\n",
        "for epoch in range(3):\n",
        "  model_output=(weights*3).sum()\n",
        "  model_output.backward()\n",
        "  print(weights.grad)\n",
        "  weights.grad.zero_()"
      ],
      "execution_count": 16,
      "outputs": [
        {
          "output_type": "stream",
          "name": "stdout",
          "text": [
            "tensor([3., 3., 3., 3.])\n",
            "tensor([3., 3., 3., 3.])\n",
            "tensor([3., 3., 3., 3.])\n"
          ]
        }
      ]
    },
    {
      "cell_type": "markdown",
      "metadata": {
        "id": "WNVSljJqXtoS"
      },
      "source": [
        "in the following example we are going to see how Backpropagation works.\n",
        "we have 3 inputs [x,y,w]  and we want to change the weights for the inputs w\n"
      ]
    },
    {
      "cell_type": "code",
      "metadata": {
        "colab": {
          "base_uri": "https://localhost:8080/"
        },
        "id": "opFE8HSjYBQR",
        "outputId": "5d258a86-7a78-4e68-b3a4-ad104737ae91"
      },
      "source": [
        "x=torch.tensor(1.0)\n",
        "y=torch.tensor(2.0)\n",
        "w=torch.tensor(1.0, requires_grad=True)\n",
        "# we do forwards pass and calculate the loss\n",
        "# to have a clearly insight about this exercice plz check compitationla graph in notice Book\n",
        "y_hat=w*x\n",
        "loss=(y_hat-y)**2\n",
        "print(loss)\n",
        "\n",
        "# let's do the backward pass\n",
        "loss.backward()\n",
        "print(w.grad)"
      ],
      "execution_count": 17,
      "outputs": [
        {
          "output_type": "stream",
          "name": "stdout",
          "text": [
            "tensor(1., grad_fn=<PowBackward0>)\n",
            "tensor(-2.)\n"
          ]
        }
      ]
    },
    {
      "cell_type": "code",
      "metadata": {
        "colab": {
          "base_uri": "https://localhost:8080/"
        },
        "id": "5NhE42SKkICh",
        "outputId": "03c84308-c708-4ce5-a285-c4dca2be7693"
      },
      "source": [
        "x=torch.tensor([1,2,3,4])\n",
        "y=torch.tensor([2,4,6,8])\n",
        "w=torch.tensor(0.0, requires_grad=True)\n",
        "\n",
        "def forward(x):\n",
        "  return w*x\n",
        "def loss(y,y_pred):\n",
        "  return ((y_pred-y)**2).mean()\n",
        "print(f'predicted value bevor training: f(5)= {forward(5):.3f}')\n",
        "learning_rate=0.01\n",
        "n_iter=72\n",
        "for epoch in range(n_iter):\n",
        "  y_pred=forward(x)\n",
        "  l=loss(y,y_pred)\n",
        "\n",
        "  l.backward()\n",
        "  # update \n",
        "  with torch.no_grad():\n",
        "    w-=learning_rate*w.grad\n",
        "  \n",
        "  w.grad.zero_()\n",
        "\n",
        "  if epoch%4==0:\n",
        "    print(f'epoch : {epoch+1},  w={w:.3f}, loss:{l:.8f}')\n",
        "\n",
        "print(f'predicted value after training: f(5)= {forward(5):.3f}')"
      ],
      "execution_count": 18,
      "outputs": [
        {
          "output_type": "stream",
          "name": "stdout",
          "text": [
            "predicted value bevor training: f(5)= 0.000\n",
            "epoch : 1,  w=0.300, loss:30.00000000\n",
            "epoch : 5,  w=1.113, loss:8.17471695\n",
            "epoch : 9,  w=1.537, loss:2.22753215\n",
            "epoch : 13,  w=1.758, loss:0.60698116\n",
            "epoch : 17,  w=1.874, loss:0.16539653\n",
            "epoch : 21,  w=1.934, loss:0.04506890\n",
            "epoch : 25,  w=1.966, loss:0.01228084\n",
            "epoch : 29,  w=1.982, loss:0.00334642\n",
            "epoch : 33,  w=1.991, loss:0.00091188\n",
            "epoch : 37,  w=1.995, loss:0.00024848\n",
            "epoch : 41,  w=1.997, loss:0.00006770\n",
            "epoch : 45,  w=1.999, loss:0.00001845\n",
            "epoch : 49,  w=1.999, loss:0.00000503\n",
            "epoch : 53,  w=2.000, loss:0.00000137\n",
            "epoch : 57,  w=2.000, loss:0.00000037\n",
            "epoch : 61,  w=2.000, loss:0.00000010\n",
            "epoch : 65,  w=2.000, loss:0.00000003\n",
            "epoch : 69,  w=2.000, loss:0.00000001\n",
            "predicted value after training: f(5)= 10.000\n"
          ]
        }
      ]
    },
    {
      "cell_type": "markdown",
      "metadata": {
        "id": "MAT7XdYsrVU3"
      },
      "source": [
        "in the followin step we are going to make some changement in our previous code\n",
        "Now we are going to code with **nn.Module**.\n",
        "\n",
        "let's check the chamgement that gonna do:\n",
        "\n",
        "1) Design the Model(Input_ output- forward fun)\n",
        "\n",
        "2) construct loss and optimizer\n",
        "\n",
        "3) training the model\n",
        "\n",
        "  forward pass : compute prediction\n",
        "\n",
        "  Backward pass: gradients\n",
        "\n",
        "  update weights\n",
        "\n",
        "\n"
      ]
    },
    {
      "cell_type": "code",
      "metadata": {
        "colab": {
          "base_uri": "https://localhost:8080/"
        },
        "id": "m3MpvX9MrUkQ",
        "outputId": "3d31bb17-b374-4b16-d3c5-592732c58fa7"
      },
      "source": [
        "import torch.nn as nn\n",
        "x=torch.tensor([1,2,3,4],dtype=torch.float32)\n",
        "y=torch.tensor([2,4,6,8],dtype=torch.float32)\n",
        "w=torch.tensor(0.0,dtype=torch.float32,requires_grad=True)\n",
        "\n",
        "def forward(x):\n",
        "  return w*x\n",
        "learning_rate=0.01\n",
        "n_iters=100\n",
        "loss=nn.MSELoss()\n",
        "optimizer=torch.optim.SGD([w],lr=learning_rate)\n",
        "for epoch in range(n_iter):\n",
        "  y_pred=forward(x)\n",
        "\n",
        "  l=loss(y, y_pred)\n",
        "  l.backward()\n",
        "  optimizer.step()\n",
        "  optimizer.zero_grad()\n",
        "\n",
        "  if epoch%2==0:\n",
        "    print(f'epoch:{epoch+1}, w= {w:.3f},loss= {l:.8f}')\n",
        "print(f'predicted number f(5) is :{forward(5):.3f}')\n",
        "\n",
        "  \n",
        "\n",
        "\n",
        "\n"
      ],
      "execution_count": 19,
      "outputs": [
        {
          "output_type": "stream",
          "name": "stdout",
          "text": [
            "epoch:1, w= 0.300,loss= 30.00000000\n",
            "epoch:3, w= 0.772,loss= 15.66018772\n",
            "epoch:5, w= 1.113,loss= 8.17471695\n",
            "epoch:7, w= 1.359,loss= 4.26725292\n",
            "epoch:9, w= 1.537,loss= 2.22753215\n",
            "epoch:11, w= 1.665,loss= 1.16278565\n",
            "epoch:13, w= 1.758,loss= 0.60698116\n",
            "epoch:15, w= 1.825,loss= 0.31684780\n",
            "epoch:17, w= 1.874,loss= 0.16539653\n",
            "epoch:19, w= 1.909,loss= 0.08633806\n",
            "epoch:21, w= 1.934,loss= 0.04506890\n",
            "epoch:23, w= 1.952,loss= 0.02352631\n",
            "epoch:25, w= 1.966,loss= 0.01228084\n",
            "epoch:27, w= 1.975,loss= 0.00641066\n",
            "epoch:29, w= 1.982,loss= 0.00334642\n",
            "epoch:31, w= 1.987,loss= 0.00174685\n",
            "epoch:33, w= 1.991,loss= 0.00091188\n",
            "epoch:35, w= 1.993,loss= 0.00047601\n",
            "epoch:37, w= 1.995,loss= 0.00024848\n",
            "epoch:39, w= 1.996,loss= 0.00012971\n",
            "epoch:41, w= 1.997,loss= 0.00006770\n",
            "epoch:43, w= 1.998,loss= 0.00003534\n",
            "epoch:45, w= 1.999,loss= 0.00001845\n",
            "epoch:47, w= 1.999,loss= 0.00000963\n",
            "epoch:49, w= 1.999,loss= 0.00000503\n",
            "epoch:51, w= 1.999,loss= 0.00000262\n",
            "epoch:53, w= 2.000,loss= 0.00000137\n",
            "epoch:55, w= 2.000,loss= 0.00000071\n",
            "epoch:57, w= 2.000,loss= 0.00000037\n",
            "epoch:59, w= 2.000,loss= 0.00000019\n",
            "epoch:61, w= 2.000,loss= 0.00000010\n",
            "epoch:63, w= 2.000,loss= 0.00000005\n",
            "epoch:65, w= 2.000,loss= 0.00000003\n",
            "epoch:67, w= 2.000,loss= 0.00000001\n",
            "epoch:69, w= 2.000,loss= 0.00000001\n",
            "epoch:71, w= 2.000,loss= 0.00000000\n",
            "predicted number f(5) is :10.000\n"
          ]
        }
      ]
    },
    {
      "cell_type": "markdown",
      "metadata": {
        "id": "le2WaG9vIiXL"
      },
      "source": [
        "now we will update our method , we we don't need forward function any more\n",
        "\n",
        "In this version we gonna use nn.linear(inp_feature, output_feature)\n",
        "Applies a linear transformation to the incoming data: **y = x A^T + b **\n",
        "\n"
      ]
    },
    {
      "cell_type": "code",
      "metadata": {
        "colab": {
          "base_uri": "https://localhost:8080/"
        },
        "id": "3x9cyHUZIuUB",
        "outputId": "632f457e-6851-4b10-c3a9-9f298cc5d2d8"
      },
      "source": [
        "x=torch.tensor([[1],[2],[3],[4]], dtype=torch.float32)\n",
        "y=torch.tensor([[2],[4],[6],[8]], dtype=torch.float32)\n",
        "\n",
        "n_samples,n_features=x.shape\n",
        "print(n_samples,n_features)\n",
        "input_size=n_features\n",
        "output_size=n_features\n",
        "\n",
        "model=nn.Linear(input_size,output_size)\n",
        "test_tensor=torch.tensor([5],dtype=torch.float32)\n",
        "print(f'prediction bevor training  f(5)={model(test_tensor).item():.3f}')\n",
        "\n",
        "learning_rate=0.01\n",
        "n_iters=100\n",
        "\n",
        "loss=nn.MSELoss()\n",
        "optimizer=torch.optim.SGD(model.parameters(),lr=learning_rate)\n",
        "for epoch in range(n_iters):\n",
        "  y_pred=model(x)\n",
        "\n",
        "  l=loss(y,y_pred)\n",
        "\n",
        "  l.backward()\n",
        "\n",
        "  optimizer.step()\n",
        "  optimizer.zero_grad()\n",
        "\n",
        "  if epoch%2==0:\n",
        "    [w,b]=model.parameters()\n",
        "    print(f'epoch{epoch+1}, w={w[0][0].item():.3f},loss={l:.3f}')\n",
        "  peint(f'the predicted value is{model()'\n",
        "  "
      ],
      "execution_count": 30,
      "outputs": [
        {
          "output_type": "stream",
          "name": "stdout",
          "text": [
            "4 1\n",
            "prediction bevor training  f(5)=-1.841\n",
            "epoch1, w=-0.127,loss=39.684\n",
            "epoch3, w=0.400,loss=19.232\n",
            "epoch5, w=0.766,loss=9.384\n",
            "epoch7, w=1.021,loss=4.641\n",
            "epoch9, w=1.199,loss=2.356\n",
            "epoch11, w=1.323,loss=1.254\n",
            "epoch13, w=1.410,loss=0.722\n",
            "epoch15, w=1.471,loss=0.465\n",
            "epoch17, w=1.514,loss=0.339\n",
            "epoch19, w=1.544,loss=0.278\n",
            "epoch21, w=1.566,loss=0.247\n",
            "epoch23, w=1.582,loss=0.230\n",
            "epoch25, w=1.594,loss=0.221\n",
            "epoch27, w=1.603,loss=0.215\n",
            "epoch29, w=1.610,loss=0.211\n",
            "epoch31, w=1.615,loss=0.208\n",
            "epoch33, w=1.620,loss=0.205\n",
            "epoch35, w=1.623,loss=0.203\n",
            "epoch37, w=1.627,loss=0.200\n",
            "epoch39, w=1.630,loss=0.198\n",
            "epoch41, w=1.632,loss=0.195\n",
            "epoch43, w=1.635,loss=0.193\n",
            "epoch45, w=1.637,loss=0.191\n",
            "epoch47, w=1.640,loss=0.188\n",
            "epoch49, w=1.642,loss=0.186\n",
            "epoch51, w=1.644,loss=0.184\n",
            "epoch53, w=1.646,loss=0.182\n",
            "epoch55, w=1.648,loss=0.180\n",
            "epoch57, w=1.650,loss=0.177\n",
            "epoch59, w=1.653,loss=0.175\n",
            "epoch61, w=1.655,loss=0.173\n",
            "epoch63, w=1.657,loss=0.171\n",
            "epoch65, w=1.659,loss=0.169\n",
            "epoch67, w=1.661,loss=0.167\n",
            "epoch69, w=1.663,loss=0.165\n",
            "epoch71, w=1.665,loss=0.163\n",
            "epoch73, w=1.667,loss=0.161\n",
            "epoch75, w=1.669,loss=0.159\n",
            "epoch77, w=1.671,loss=0.157\n",
            "epoch79, w=1.673,loss=0.155\n",
            "epoch81, w=1.675,loss=0.154\n",
            "epoch83, w=1.677,loss=0.152\n",
            "epoch85, w=1.679,loss=0.150\n",
            "epoch87, w=1.681,loss=0.148\n",
            "epoch89, w=1.683,loss=0.146\n",
            "epoch91, w=1.684,loss=0.145\n",
            "epoch93, w=1.686,loss=0.143\n",
            "epoch95, w=1.688,loss=0.141\n",
            "epoch97, w=1.690,loss=0.140\n",
            "epoch99, w=1.692,loss=0.138\n"
          ]
        }
      ]
    },
    {
      "cell_type": "code",
      "metadata": {
        "colab": {
          "base_uri": "https://localhost:8080/"
        },
        "id": "RS3tdI3lZ_k0",
        "outputId": "24f059d3-b75a-41d2-f65b-f0fd74224c7d"
      },
      "source": [
        "x=torch.tensor([[1],[2],[3],[4]], dtype=torch.float32)\n",
        "y=torch.tensor([[2],[4],[6],[8]], dtype=torch.float32)\n",
        "\n",
        "n_samples,n_features=x.shape\n",
        "print(n_samples,n_features)\n",
        "input_size=n_features\n",
        "output_size=n_features\n",
        "\n",
        "model=nn.Linear(input_size,output_size)\n",
        "test_tensor=torch.tensor([5],dtype=torch.float32)\n",
        "print(f'prediction bevor training  f(5)={model(test_tensor).item():.3f}')\n",
        "\n",
        "learning_rate=0.1\n",
        "n_iters=68\n",
        "\n",
        "loss=nn.MSELoss()\n",
        "optimizer=torch.optim.SGD(model.parameters(),lr=learning_rate)\n",
        "for epoch in range(n_iters):\n",
        "  y_pred=model(x)\n",
        "\n",
        "  l=loss(y,y_pred)\n",
        "\n",
        "  l.backward()\n",
        "\n",
        "  optimizer.step()\n",
        "  optimizer.zero_grad()\n",
        "\n",
        "  if epoch%10==0:\n",
        "    [w,b]=model.parameters()\n",
        "    print(f'epoch{epoch+1}, w={w[0][0].item():.3f},loss={l:.3f}')\n",
        "print(f'the predicted value is{model(test_tensor).item():.3f}')\n",
        "  "
      ],
      "execution_count": 46,
      "outputs": [
        {
          "output_type": "stream",
          "name": "stdout",
          "text": [
            "4 1\n",
            "prediction bevor training  f(5)=-1.443\n",
            "epoch1, w=2.856,loss=36.143\n",
            "epoch11, w=1.686,loss=0.187\n",
            "epoch21, w=1.751,loss=0.095\n",
            "epoch31, w=1.816,loss=0.052\n",
            "epoch41, w=1.864,loss=0.028\n",
            "epoch51, w=1.900,loss=0.015\n",
            "epoch61, w=1.926,loss=0.008\n",
            "the predicted value is9.877\n"
          ]
        }
      ]
    },
    {
      "cell_type": "markdown",
      "metadata": {
        "id": "iBXRNwIjc6pU"
      },
      "source": [
        "In this Section we gonna know how to strkture the model\n"
      ]
    },
    {
      "cell_type": "code",
      "metadata": {
        "id": "LfO7repsrNYg",
        "colab": {
          "base_uri": "https://localhost:8080/"
        },
        "outputId": "c84b981b-ec72-4529-ef15-1d60ed264681"
      },
      "source": [
        "x=torch.tensor([[1],[2],[3],[4]], dtype=torch.float32)\n",
        "y=torch.tensor([[2],[4],[6],[8]], dtype=torch.float32)\n",
        "\n",
        "n_sample,n_feature=x.shape\n",
        "input_size=n_features\n",
        "output_size=n_features\n",
        "\n",
        "class LinearRegression(nn.Module):\n",
        "  def __init__(self, input_size,output_size):\n",
        "    super(LinearRegression,self).__init__()\n",
        "    self.lin=nn.Linear(input_size,output_size)\n",
        "\n",
        "  def forward(self,x):\n",
        "    return self.lin(x)\n",
        "\n",
        "model=LinearRegression(input_size,output_size)\n",
        "x_test=y=torch.tensor([5.0], dtype=torch.float32)\n",
        "learning_rate=0.01\n",
        "n_iters=20\n",
        "loss=nn.MSELoss()\n",
        "optimizer=torch.optim.SGD(model.parameters(),lr=learning_rate)\n",
        "for epoch in range(n_iters):\n",
        "    y_pred=model(x)\n",
        "\n",
        "    l=loss(y,y_pred)\n",
        "\n",
        "    l.backward()\n",
        "\n",
        "    optimizer.step()\n",
        "\n",
        "    optimizer.zero_grad()\n",
        "    if epoch%2==0:\n",
        "      [w,b]=model.parameters()\n",
        "      print(f'epoch{epoch+1}, w={w[0][0].item():.3f}, loss={l:.3f}')\n",
        "print(f'the predicted value is{model(test_tensor).item():.3f}')\n",
        "\n",
        "\n",
        "\n"
      ],
      "execution_count": 50,
      "outputs": [
        {
          "output_type": "stream",
          "name": "stdout",
          "text": [
            "epoch1, w=-0.590, loss=57.688\n",
            "epoch3, w=0.019, loss=29.276\n",
            "epoch5, w=0.439, loss=15.579\n",
            "epoch7, w=0.729, loss=8.967\n",
            "epoch9, w=0.927, loss=5.766\n",
            "epoch11, w=1.062, loss=4.207\n",
            "epoch13, w=1.153, loss=3.440\n",
            "epoch15, w=1.213, loss=3.053\n",
            "epoch17, w=1.253, loss=2.851\n",
            "epoch19, w=1.278, loss=2.737\n",
            "the predicted value is7.445\n"
          ]
        },
        {
          "output_type": "stream",
          "name": "stderr",
          "text": [
            "/usr/local/lib/python3.7/dist-packages/torch/nn/modules/loss.py:520: UserWarning: Using a target size (torch.Size([4, 1])) that is different to the input size (torch.Size([1])). This will likely lead to incorrect results due to broadcasting. Please ensure they have the same size.\n",
            "  return F.mse_loss(input, target, reduction=self.reduction)\n"
          ]
        }
      ]
    },
    {
      "cell_type": "code",
      "metadata": {
        "id": "skV8Uf5eoEj-"
      },
      "source": [
        ""
      ],
      "execution_count": null,
      "outputs": []
    },
    {
      "cell_type": "markdown",
      "metadata": {
        "id": "Vuazdm5aoVy0"
      },
      "source": [
        "Linear regression:\n",
        "Design the Model(input_size, output_size, forward pass)\n",
        "construct loss, optimization\n",
        "training the loop\n",
        "forward pass\n",
        "bachward pass\n",
        "update weights\n"
      ]
    },
    {
      "cell_type": "code",
      "metadata": {
        "colab": {
          "base_uri": "https://localhost:8080/",
          "height": 386
        },
        "id": "NI1oidgYo0Ed",
        "outputId": "c4ee11b1-93bb-4228-ee6b-8042a1276055"
      },
      "source": [
        "import torch\n",
        "import torch.nn as nn\n",
        "import numpy as np\n",
        "\n",
        "from sklearn import datasets\n",
        "import matplotlib.pyplot as plt\n",
        "# prepare the data\n",
        "x_numpy,y_numpy=datasets.make_regression(n_samples=100,n_features=1,noise=20,random_state=1)\n",
        "\n",
        "#transform numpy to tensor\n",
        "x=torch.from_numpy(x_numpy.astype(np.float32))\n",
        "y=torch.from_numpy(y_numpy.astype(np.float32))\n",
        "#reshpae\n",
        "y=y.view(y.shape[0],1)\n",
        "n_sample,n_feature=x.shape\n",
        "input_size=n_feature\n",
        "output_size=1# depend how many output do we have\n",
        "\n",
        "# model:\n",
        "model=nn.Linear(input_size,output_size)\n",
        "#loss and optimizer\n",
        "learning_rate=0.1\n",
        "criterion=nn.MSELoss()\n",
        "optimizer=torch.optim.SGD(model.parameters(),lr=learning_rate)\n",
        "# training loop:\n",
        "n_iters=100\n",
        "for epoch in range(n_iter):\n",
        "  #forward pass\n",
        "  y_pred=model(x)\n",
        "  loss=criterion(y_pred,y)\n",
        "  #backward\n",
        "  loss.backward()\n",
        "  #update\n",
        "  optimizer.step()\n",
        "  #empty our gradiant\n",
        "  optimizer.zero_grad()\n",
        "  if (epoch+1)%10==0:\n",
        "    print(f'epoch:{epoch+1}, loss={loss.item():.3f}')\n",
        "\n",
        "#plot\n",
        "# desactivate gradient attribution:\n",
        "predicted=model(x).detach().numpy()\n",
        "\n",
        "plt.plot(x_numpy,y_numpy,'ro')\n",
        "plt.plot(x_numpy,predicted,'b')\n",
        "plt.show()"
      ],
      "execution_count": 61,
      "outputs": [
        {
          "output_type": "stream",
          "name": "stdout",
          "text": [
            "epoch:10, loss=581.975\n",
            "epoch:20, loss=341.066\n",
            "epoch:30, loss=332.863\n",
            "epoch:40, loss=332.578\n",
            "epoch:50, loss=332.568\n",
            "epoch:60, loss=332.568\n",
            "epoch:70, loss=332.568\n"
          ]
        },
        {
          "output_type": "display_data",
          "data": {
            "image/png": "[encoded data removed]",
            "text/plain": [
              "<Figure size 432x288 with 1 Axes>"
            ]
          },
          "metadata": {
            "needs_background": "light"
          }
        }
      ]
    },
    {
      "cell_type": "markdown",
      "metadata": {
        "id": "wm2h83RDxUGZ"
      },
      "source": [
        "Logistic regression:"
      ]
    },
    {
      "cell_type": "code",
      "metadata": {
        "colab": {
          "base_uri": "https://localhost:8080/"
        },
        "id": "seGKZ-VEyBMh",
        "outputId": "de6c7c88-ecfc-478a-8f3e-a9402ebf4942"
      },
      "source": [
        "import torch\n",
        "import torch.nn as nn\n",
        "import numpy as np\n",
        "from sklearn import datasets\n",
        "import matplotlib.pyplot as plt\n",
        "from sklearn.preprocessing import StandardScaler\n",
        "from sklearn.model_selection import  train_test_split\n",
        "\n",
        "bc=datasets.load_breast_cancer()\n",
        "x,y=bc.data, bc.target\n",
        "\n",
        "n_sample,n_feature=x.shape\n",
        "print(n_sample,n_feature)\n",
        "x_train,x_test,y_train,y_test= train_test_split(x,y,test_size=0.2,random_state=42)\n",
        "\n",
        "sc=StandardScaler()\n",
        "x_train=sc.fit_transform(x_train)\n",
        "x_test=sc.fit_transform(x_test)\n",
        "\n",
        "x_train=torch.from_numpy(x_train.astype(np.float32))\n",
        "x_test=torch.from_numpy(x_test.astype(np.float32))\n",
        "y_train=torch.from_numpy(y_train.astype(np.float32))\n",
        "y_test=torch.from_numpy(y_test.astype(np.float32))\n",
        "\n",
        "y_train=y_train.view(y_train.shape[0],1)\n",
        "y_test=y_test.view(y_test.shape[0],1)\n",
        "#self.linear : f= wx+b\n",
        "class Model(nn.Module):\n",
        "\n",
        "  def __init__(self,n_input_features):\n",
        "    super(Model,self).__init__()\n",
        "    self.linear=nn.Linear(n_input_features,1)\n",
        "\n",
        "  def forward(self,x):\n",
        "    y_pred=torch.sigmoid(self.linear(x))\n",
        "    return y_pred\n",
        "\n",
        "model=Model(n_feature)\n",
        "\n",
        "# loss and optimizer:\n",
        "learning_rate=0.01\n",
        "n_iter=100\n",
        "criterion=nn.BCELoss()# binarycrossentropy\n",
        "optimizer=torch.optim.SGD(model.parameters(),lr=learning_rate)\n",
        "\n",
        "for epoch in range(n_iter):\n",
        "\n",
        "  y_pred=model(x_train)\n",
        "\n",
        "  loss=criterion(y_pred,y_train)\n",
        "\n",
        "  loss.backward()\n",
        "\n",
        "  optimizer.step()\n",
        "\n",
        "  optimizer.zero_grad()\n",
        "\n",
        "  if (epoch+1)%10==0:\n",
        "    [w,b]=model.parameters()\n",
        "    print(f'epoch={epoch+1},loss={loss.item():.3f}')\n",
        "\n",
        "# evaluation the model:\n",
        "with torch.no_grad():# fach nhabso training darori nghal9o bhadi\n",
        "  y_predicted=model(x_test)\n",
        "  y_predicted_cls=y_predicted.round()\n",
        "  acc=y_predicted_cls.eq(y_test).sum()/float(y_test.shape[0])# number of gut classifed sample/ sample total\n",
        "  print(f'accuracy:{acc.item():.3f}')\n",
        "\n",
        "\n",
        "\n",
        "\n",
        "\n",
        "\n"
      ],
      "execution_count": 94,
      "outputs": [
        {
          "output_type": "stream",
          "name": "stdout",
          "text": [
            "569 30\n",
            "epoch=10,loss=0.542\n",
            "epoch=20,loss=0.458\n",
            "epoch=30,loss=0.402\n",
            "epoch=40,loss=0.363\n",
            "epoch=50,loss=0.333\n",
            "epoch=60,loss=0.310\n",
            "epoch=70,loss=0.292\n",
            "epoch=80,loss=0.276\n",
            "epoch=90,loss=0.264\n",
            "epoch=100,loss=0.252\n",
            "accuracy:0.982\n"
          ]
        }
      ]
    },
    {
      "cell_type": "markdown",
      "metadata": {
        "id": "5pmzjJap_0yb"
      },
      "source": [
        "epoch=1  forward and backward pass of all training samples\n",
        "\n",
        "batch_size= number of training samples in one forward & backward pass\n",
        "\n",
        "number of iteration =number of passes, each pass using [batch_size] \n",
        "number of samples\n",
        "\n",
        "**e.g 100 samples batchsize=20 100/20= 5 iteration for 1 epoch**"
      ]
    },
    {
      "cell_type": "code",
      "metadata": {
        "id": "GG5jkT9RAkPQ"
      },
      "source": [
        "import torch\n",
        "import torchvision\n",
        "from torch.utils.data import Dataset, DataLoader\n",
        "import numpy as np\n",
        "import math"
      ],
      "execution_count": 19,
      "outputs": []
    },
    {
      "cell_type": "code",
      "metadata": {
        "colab": {
          "base_uri": "https://localhost:8080/"
        },
        "id": "8Pxtx7r6GNE6",
        "outputId": "2a8a6a4e-ec35-4d14-9419-a4bd03cd6822"
      },
      "source": [
        " class WineDataset(Dataset):\n",
        " \n",
        "    def __init__(self):\n",
        "        # Initialize data, download, etc.\n",
        "        # read with numpy or pandas\n",
        "        xy = np.loadtxt('wine.csv', delimiter=',', dtype=np.float32, skiprows=1)\n",
        "        self.n_samples = xy.shape[0]\n",
        "\n",
        "        # here the first column is the class label, the rest are the features\n",
        "        self.x_data = torch.from_numpy(xy[:, 1:]) # size [n_samples, n_features]\n",
        "        self.y_data = torch.from_numpy(xy[:, [0]]) # size [n_samples, 1]\n",
        "\n",
        "    # support indexing such that dataset[i] can be used to get i-th sample\n",
        "    def __getitem__(self, index):\n",
        "        return self.x_data[index], self.y_data[index]\n",
        "\n",
        "    # we can call len(dataset) to return the size\n",
        "    def __len__(self):\n",
        "        return self.n_samples\n",
        "\n",
        "\n",
        "# create dataset\n",
        "dataset = WineDataset()\n",
        "\n",
        "# get first sample and unpack\n",
        "first_data = dataset[0]\n",
        "feature, label=first_data\n",
        "print(feature,label)\n",
        "dataloader=DataLoader(dataset=dataset, batch_size=4,shuffle=True,num_workers=2)\n",
        "\n",
        "dataiter=iter(dataloader)\n",
        "data=dataiter.next()\n",
        "feature,label=data\n",
        "print(feature,label)\n",
        "\n",
        "num_epoch=2\n",
        "total_sample=len(dataset)\n",
        "n_iteration=math.ceil(total_sample/4)\n",
        "print(total_sample,n_iteration)\n",
        "print(f'n_iteration: {n_iteration}')\n",
        "for epoch in range(num_epoch):\n",
        "  for i , (input,label) in enumerate(dataloader):\n",
        "    if(i+1)%5==0:\n",
        "      print(f'epoch:{epoch+1}/{num_epoch},step{i}/{n_iteration},inputs{input.shape}')\n",
        "\n",
        "\n",
        "\n"
      ],
      "execution_count": 34,
      "outputs": [
        {
          "output_type": "stream",
          "name": "stdout",
          "text": [
            "tensor([1.4230e+01, 1.7100e+00, 2.4300e+00, 1.5600e+01, 1.2700e+02, 2.8000e+00,\n",
            "        3.0600e+00, 2.8000e-01, 2.2900e+00, 5.6400e+00, 1.0400e+00, 3.9200e+00,\n",
            "        1.0650e+03]) tensor([1.])\n",
            "tensor([[1.2770e+01, 2.3900e+00, 2.2800e+00, 1.9500e+01, 8.6000e+01, 1.3900e+00,\n",
            "         5.1000e-01, 4.8000e-01, 6.4000e-01, 9.9000e+00, 5.7000e-01, 1.6300e+00,\n",
            "         4.7000e+02],\n",
            "        [1.4020e+01, 1.6800e+00, 2.2100e+00, 1.6000e+01, 9.6000e+01, 2.6500e+00,\n",
            "         2.3300e+00, 2.6000e-01, 1.9800e+00, 4.7000e+00, 1.0400e+00, 3.5900e+00,\n",
            "         1.0350e+03],\n",
            "        [1.1810e+01, 2.1200e+00, 2.7400e+00, 2.1500e+01, 1.3400e+02, 1.6000e+00,\n",
            "         9.9000e-01, 1.4000e-01, 1.5600e+00, 2.5000e+00, 9.5000e-01, 2.2600e+00,\n",
            "         6.2500e+02],\n",
            "        [1.3520e+01, 3.1700e+00, 2.7200e+00, 2.3500e+01, 9.7000e+01, 1.5500e+00,\n",
            "         5.2000e-01, 5.0000e-01, 5.5000e-01, 4.3500e+00, 8.9000e-01, 2.0600e+00,\n",
            "         5.2000e+02]]) tensor([[3.],\n",
            "        [1.],\n",
            "        [2.],\n",
            "        [3.]])\n",
            "178 45\n",
            "n_iteration: 45\n",
            "epoch:1/2,step4/45,inputstorch.Size([4, 13])\n",
            "epoch:1/2,step9/45,inputstorch.Size([4, 13])\n",
            "epoch:1/2,step14/45,inputstorch.Size([4, 13])\n",
            "epoch:1/2,step19/45,inputstorch.Size([4, 13])\n",
            "epoch:1/2,step24/45,inputstorch.Size([4, 13])\n",
            "epoch:1/2,step29/45,inputstorch.Size([4, 13])\n",
            "epoch:1/2,step34/45,inputstorch.Size([4, 13])\n",
            "epoch:1/2,step39/45,inputstorch.Size([4, 13])\n",
            "epoch:1/2,step44/45,inputstorch.Size([2, 13])\n",
            "epoch:2/2,step4/45,inputstorch.Size([4, 13])\n",
            "epoch:2/2,step9/45,inputstorch.Size([4, 13])\n",
            "epoch:2/2,step14/45,inputstorch.Size([4, 13])\n",
            "epoch:2/2,step19/45,inputstorch.Size([4, 13])\n",
            "epoch:2/2,step24/45,inputstorch.Size([4, 13])\n",
            "epoch:2/2,step29/45,inputstorch.Size([4, 13])\n",
            "epoch:2/2,step34/45,inputstorch.Size([4, 13])\n",
            "epoch:2/2,step39/45,inputstorch.Size([4, 13])\n",
            "epoch:2/2,step44/45,inputstorch.Size([2, 13])\n"
          ]
        }
      ]
    },
    {
      "cell_type": "code",
      "metadata": {
        "id": "capq7RXlLsYC"
      },
      "source": [
        "import torch\n",
        "import torchvision\n",
        "import torchvision.datasets as datasets\n",
        "mnist_trainset = datasets.MNIST(root='./data', transform=torchvision.transforms.ToTensor())\n",
        "\n"
      ],
      "execution_count": 17,
      "outputs": []
    },
    {
      "cell_type": "code",
      "metadata": {
        "colab": {
          "base_uri": "https://localhost:8080/"
        },
        "id": "sVaALGOxH_MV",
        "outputId": "627915cd-fb81-4d31-9d7b-2c29463a1c6c"
      },
      "source": [
        "class MnistDataset(Dataset):\n",
        "\n",
        "  def __init__(self,transform=None):\n",
        "    xy = np.loadtxt('wine.csv', delimiter=',', dtype=np.float32, skiprows=1)\n",
        "    self.n_sample=xy.shape[0]\n",
        "    self.x=xy[:,1:]\n",
        "    self.y=xy[:,[0]]\n",
        "    self.transform=transform\n",
        "\n",
        "  def __getitem__(self, index):\n",
        "   sample= self.x[index], self.y[index]\n",
        "   if self.transform:\n",
        "     sample=self.transform(sample)\n",
        "   return sample\n",
        "\n",
        "  def __len__(self):\n",
        "    return n_samples\n",
        "\n",
        "\n",
        "class ToTensor:\n",
        "\n",
        "  def __call__(self,sample):\n",
        "    inputs, target=sample\n",
        "    return torch.from_numpy(inputs),torch.from_numpy(target)\n",
        "\n",
        "class Multransform:\n",
        "\n",
        "  def __init__(self, factor):\n",
        "    self.factor=factor\n",
        "\n",
        "  def __call__(self, sample):\n",
        "    inputs, target=sample\n",
        "    inputs=inputs*self.factor\n",
        "    return inputs, target\n",
        "\n",
        "\n",
        "dataset= MnistDataset(transform=ToTensor())\n",
        "first_data = dataset[0]\n",
        "features, labels = first_data\n",
        "print(type(features), type(labels))\n",
        "#print(features, labels)\n",
        "\n",
        "\n",
        "# without class transform\n",
        "dataset=WineDataset()\n",
        "first_data=dataset[0]\n",
        "feature, target=first_data\n",
        "print(type(feature),type(target))\n",
        "print(feature,target)\n",
        "  \n",
        "composed = torchvision.transforms.Compose([ToTensor(), Multransform(4)])\n",
        "dataset= MnistDataset(transform=composed)\n",
        "first_data=dataset[0]\n",
        "feature, label=first_data\n",
        "print(type(feature),type(label))\n",
        "print(feature,label)\n"
      ],
      "execution_count": 53,
      "outputs": [
        {
          "output_type": "stream",
          "name": "stdout",
          "text": [
            "<class 'torch.Tensor'> <class 'torch.Tensor'>\n",
            "<class 'torch.Tensor'> <class 'torch.Tensor'>\n",
            "tensor([1.4230e+01, 1.7100e+00, 2.4300e+00, 1.5600e+01, 1.2700e+02, 2.8000e+00,\n",
            "        3.0600e+00, 2.8000e-01, 2.2900e+00, 5.6400e+00, 1.0400e+00, 3.9200e+00,\n",
            "        1.0650e+03]) tensor([1.])\n",
            "<class 'torch.Tensor'> <class 'torch.Tensor'>\n",
            "tensor([5.6920e+01, 6.8400e+00, 9.7200e+00, 6.2400e+01, 5.0800e+02, 1.1200e+01,\n",
            "        1.2240e+01, 1.1200e+00, 9.1600e+00, 2.2560e+01, 4.1600e+00, 1.5680e+01,\n",
            "        4.2600e+03]) tensor([1.])\n"
          ]
        }
      ]
    },
    {
      "cell_type": "markdown",
      "metadata": {
        "id": "XZMh3rQuOEyu"
      },
      "source": [
        "**Softmax and Cross-Entropy**"
      ]
    },
    {
      "cell_type": "code",
      "metadata": {
        "id": "gbFhov3tOLgM"
      },
      "source": [
        "for more information about how to calcule cross entropy loss see the notice book"
      ],
      "execution_count": null,
      "outputs": []
    },
    {
      "cell_type": "code",
      "metadata": {
        "colab": {
          "base_uri": "https://localhost:8080/"
        },
        "id": "_xBqto7YQ7F8",
        "outputId": "2266fc96-9833-47e8-d32e-61a4d7c10805"
      },
      "source": [
        "import torch.nn as nn\n",
        "\n",
        "loss=nn.CrossEntropyLoss()\n",
        "\n",
        "# preditected value\n",
        "y=torch.tensor([0])\n",
        "#  shape of y_hat is calculated through n_sample* n_classe let say 1*3\n",
        "y_pred_good=torch.tensor([[2.0,1.0,0.1]])\n",
        "y_pred_bad=torch.tensor([[0.5,2.0,0.3]])\n",
        "\n",
        "l1=loss(y_pred_good,y)\n",
        "l2=loss(y_pred_bad,y)\n",
        "\n",
        "print(l1.item())\n",
        "print(l2.item())\n",
        "\n",
        "predictions1=torch.max(y_pred_bad,1)\n",
        "predictions2=torch.max(y_pred_good,1)\n",
        "\n",
        "print(predictions1)\n",
        "print(predictions2)\n"
      ],
      "execution_count": 57,
      "outputs": [
        {
          "output_type": "stream",
          "name": "stdout",
          "text": [
            "0.4170299470424652\n",
            "1.840616226196289\n",
            "torch.return_types.max(\n",
            "values=tensor([2.]),\n",
            "indices=tensor([1]))\n",
            "torch.return_types.max(\n",
            "values=tensor([2.]),\n",
            "indices=tensor([0]))\n"
          ]
        }
      ]
    },
    {
      "cell_type": "code",
      "metadata": {
        "colab": {
          "base_uri": "https://localhost:8080/"
        },
        "id": "mP9AijnGSzBC",
        "outputId": "298addee-c5ed-4a3c-e203-ab320a883bd4"
      },
      "source": [
        "loss=nn.CrossEntropyLoss()\n",
        "\n",
        "# preditected value pytorch support also multiple sample\n",
        "y=torch.tensor([2,0,1])\n",
        "#  shape of y_hat is calculated through n_sample* n_classe let say 3*3\n",
        "y_pred_good=torch.tensor([[0.1,1.0,2.1],[2.0,1.0,0.1],[0.1,3.0,0.1]])\n",
        "y_pred_bad=torch.tensor([[2.1,1.0,0.1],[2.0,1.0,2.1],[0.1,3.0,0.1]])\n",
        "\n",
        "l1=loss(y_pred_good,y)\n",
        "l2=loss(y_pred_bad,y)\n",
        "\n",
        "print(l1.item())\n",
        "print(l2.item())\n",
        "\n",
        "predictions1=torch.max(y_pred_bad,1)\n",
        "predictions2=torch.max(y_pred_good,1)\n",
        "\n",
        "print(predictions1)\n",
        "print(predictions2)"
      ],
      "execution_count": 59,
      "outputs": [
        {
          "output_type": "stream",
          "name": "stdout",
          "text": [
            "0.3018244206905365\n",
            "1.1312984228134155\n",
            "torch.return_types.max(\n",
            "values=tensor([2.1000, 2.1000, 3.0000]),\n",
            "indices=tensor([0, 2, 1]))\n",
            "torch.return_types.max(\n",
            "values=tensor([2.1000, 2.0000, 3.0000]),\n",
            "indices=tensor([2, 0, 1]))\n"
          ]
        }
      ]
    },
    {
      "cell_type": "code",
      "metadata": {
        "id": "ufe64LYrTuSe"
      },
      "source": [
        ""
      ],
      "execution_count": null,
      "outputs": []
    },
    {
      "cell_type": "markdown",
      "metadata": {
        "id": "IrWSJXgWTw49"
      },
      "source": [
        "Neural Net classification \n",
        "in the Following example we will discuss the Multiclassification probelm using softmax layer"
      ]
    },
    {
      "cell_type": "code",
      "metadata": {
        "id": "fIf5hRk2SmIx"
      },
      "source": [
        "class NeuralNet2(nn.Module):\n",
        "\n",
        "  def __init__(self,input_size, hidden_size,num_class):\n",
        "    super(NeuralNet2,self).__init__()\n",
        "    self.linear=nn.Linear(input_size,hidden_size)\n",
        "    self.relu=nn.ReLU()\n",
        "    self.linear=nn.Linear(hidden_size,num_class)\n",
        "\n",
        "  def forward(self,x):\n",
        "    out=self.linear(x)\n",
        "    out=nn.relu(out)\n",
        "    out=nn.linear(out)\n",
        "    # no softmax at the end\n",
        "    return out\n",
        "model=NeuralNet2(input_size=28*28,hidden_size=5,num_class=3)\n",
        "loss=nn.CrossEntropyLoss()"
      ],
      "execution_count": 63,
      "outputs": []
    },
    {
      "cell_type": "code",
      "metadata": {
        "id": "lLPhuaQhX4kd"
      },
      "source": [
        "class NeuralNet1(nn.Module):\n",
        "\n",
        "  def __init__(self,input_size,hidden_size):\n",
        "    super(NeuralNet1,self).__init__()\n",
        "    self.linear1=nn.Linear(input_size,hidden_size)\n",
        "    self.relu=nn.ReLU()\n",
        "    self.linear2=nn.Linear(hidden_size,1)\n",
        "\n",
        "  def forward(self,x):\n",
        "    out=self.linear1(x)\n",
        "    out=nn.relu(out)\n",
        "    out=sel.linear2(out)\n",
        "    y_pred=torch.sigmoid(out)\n",
        "    return y_pred\n",
        "\n",
        "model1=NeuralNet1(input_size=28*28,hidden_size=5)\n",
        "loss=nn.BCELoss()"
      ],
      "execution_count": 71,
      "outputs": []
    },
    {
      "cell_type": "code",
      "metadata": {
        "id": "YyXoQT0Wa_d-"
      },
      "source": [
        ""
      ],
      "execution_count": null,
      "outputs": []
    },
    {
      "cell_type": "markdown",
      "metadata": {
        "id": "bQQ2JvM-bAwv"
      },
      "source": [
        "Activation fuction:\n",
        "sigmoid : 1/1+np.exp(-x) for binary classification pronlem\n",
        "\n",
        "TanH: (2/1+np.exp(-2x))-1[ -1,+1] good choce in hidden layer\n",
        "\n",
        "relu: f(x)=max(0,x) if you don't know which fun , you can use in hiddenlayer just use hiddenlayer\n",
        "\n",
        "leaky relu fun: modified and optimization of relu f(x)=x if x>=0 or a*x otherweise(a is very small number)\n",
        "solve the problem of vanisching problem\n",
        "if we use the relu function , that means the negative number goes to 0 , this produce that the gradient will aso goes to 0 , when the gradient is 0 that means this weight will never be updated\n",
        "that is when somtime we use leaky relu instead of relu fn\n",
        "\n",
        "\n",
        "**how we use activation function in our model:**\n",
        "in the following exmaple we will use sigmoid as activierungsfunction für die Hidden layer in 2 version\n",
        "\n",
        "\n",
        "\n"
      ]
    },
    {
      "cell_type": "code",
      "metadata": {
        "id": "UmXbN9L8T89q"
      },
      "source": [
        "#version 1:\n",
        "class NeuralNetAkti(nn.Module):\n",
        "  def __init__(self,input_size,hidden_size):\n",
        "    super(NeuralNetAkti,self).__init__()\n",
        "    self.linear1=nn.Linear(input_size,hidden_size)\n",
        "    self.relu=nn.ReLu()\n",
        "    self.linear2=nn.Linear(hidden_size,1)\n",
        "    self.sigmoid=nn.sigmoid()\n",
        "\n",
        "  def forward(self,x):\n",
        "    out=self.linear1(x)\n",
        "    out=self.relu(out)\n",
        "    out=self.linear2(out)\n",
        "    out=self.sigmoid(out)\n",
        "    return out"
      ],
      "execution_count": 76,
      "outputs": []
    },
    {
      "cell_type": "code",
      "metadata": {
        "id": "O3TnQFjHiWW_"
      },
      "source": [
        "#version 2:\n",
        "class NeuralNetAkti2(nn.Module):\n",
        "  def __init__(self,input_size,hidden_size):\n",
        "    super(NeuralNetAkti,self).__init__()\n",
        "    self.linear1=nn.Linear(input_size,hidden_size)\n",
        "    self.linear2=nn.Linear(hidden_size,1)\n",
        "  \n",
        "\n",
        "  def forward(self,x):\n",
        "   out=torch.relu(self.linear1(x))\n",
        "   out=torch.sigmoid(sel.linear2(out))\n",
        "   return out"
      ],
      "execution_count": 77,
      "outputs": []
    },
    {
      "cell_type": "markdown",
      "metadata": {
        "id": "jLaBiiFBkELP"
      },
      "source": [
        "sometimes some fuction are not available in torch therfore we should call functional function\n",
        "import torch.nn.functional as F \n",
        "and here for example leaky relu is available"
      ]
    },
    {
      "cell_type": "code",
      "metadata": {
        "id": "wGRArlGoklfV"
      },
      "source": [
        ""
      ],
      "execution_count": null,
      "outputs": []
    },
    {
      "cell_type": "markdown",
      "metadata": {
        "id": "QLSNA1y_kwTL"
      },
      "source": [
        "In this Sectio we gonna use all the knowledge and skills that we learn in the previous sections\n",
        "# Mnist\n",
        "\n",
        "1) DataLoader, transformation\n",
        "\n",
        "2) multi layer , act fun\n",
        "\n",
        "3) loss , optimi\n",
        "\n",
        "4)Model evaluation\n",
        "\n",
        "5) GPU support\n",
        "\n",
        "\n",
        "**Notizen about the code**\n",
        "train_loader is divided into batch every batch hast 100 stuck"
      ]
    },
    {
      "cell_type": "code",
      "metadata": {
        "id": "r0wTU6i1vJ1M"
      },
      "source": [
        "import torch\n",
        "import torch.nn as nn\n",
        "import torchvision\n",
        "from torchvision import transforms as transforms\n",
        "import matplotlib.pyplot as plt\n",
        "from torch.utils.tensorboard import SummaryWriter\n",
        "writer=SummaryWriter(\"runs/mnist\")\n",
        "import sys"
      ],
      "execution_count": 69,
      "outputs": []
    },
    {
      "cell_type": "code",
      "metadata": {
        "colab": {
          "base_uri": "https://localhost:8080/",
          "height": 486
        },
        "id": "I6tm4OrTHKyJ",
        "outputId": "c248bf0d-c826-4406-b3dc-cd0db5abf901"
      },
      "source": [
        "import torch\n",
        "import torch.nn as nn\n",
        "import torchvision\n",
        "import torchvision.transforms as transforms\n",
        "import matplotlib.pyplot as plt\n",
        "\n",
        "# Device configuration\n",
        "device = torch.device('cuda' if torch.cuda.is_available() else 'cpu')\n",
        "\n",
        "# Hyper-parameters \n",
        "input_size = 784 # 28x28\n",
        "hidden_size = 500 \n",
        "num_classes = 10\n",
        "num_epochs = 2\n",
        "batch_size = 100\n",
        "learning_rate = 0.001\n",
        "\n",
        "# MNIST dataset \n",
        "train_dataset = torchvision.datasets.MNIST(root='./data', \n",
        "                                           train=True, \n",
        "                                           transform=transforms.ToTensor(),  \n",
        "                                           download=True)\n",
        "\n",
        "test_dataset = torchvision.datasets.MNIST(root='./data', \n",
        "                                          train=False, \n",
        "                                          transform=transforms.ToTensor())\n",
        "\n",
        "# Data loader\n",
        "train_loader = torch.utils.data.DataLoader(dataset=train_dataset, \n",
        "                                           batch_size=batch_size, \n",
        "                                           shuffle=True)\n",
        "\n",
        "test_loader = torch.utils.data.DataLoader(dataset=test_dataset, \n",
        "                                          batch_size=batch_size, \n",
        "                                          shuffle=False)\n",
        "\n",
        "examples = iter(test_loader)\n",
        "example_data, example_targets = examples.next()\n",
        "\n",
        "for i in range(6):\n",
        "    plt.subplot(2,3,i+1)\n",
        "    plt.imshow(example_data[i][0], cmap='gray')\n",
        "#plt.show()\n",
        "###########################\n",
        "img_grid = torchvision.utils.make_grid(example_data)\n",
        "writer.add_image('mnist_images', img_grid)\n",
        "#writer.close()\n",
        "#sys.exit()\n",
        "###################################\n",
        "\n",
        "# Fully connected neural network with one hidden layer\n",
        "class NeuralNet(nn.Module):\n",
        "    def __init__(self, input_size, hidden_size, num_classes):\n",
        "        super(NeuralNet, self).__init__()\n",
        "        self.input_size = input_size\n",
        "        self.l1 = nn.Linear(input_size, hidden_size) \n",
        "        self.relu = nn.ReLU()\n",
        "        self.l2 = nn.Linear(hidden_size, num_classes)  \n",
        "    \n",
        "    def forward(self, x):\n",
        "        out = self.l1(x)\n",
        "        out = self.relu(out)\n",
        "        out = self.l2(out)\n",
        "        # no activation and no softmax at the end\n",
        "        return out\n",
        "\n",
        "model = NeuralNet(input_size, hidden_size, num_classes).to(device)\n",
        "\n",
        "# Loss and optimizer\n",
        "criterion = nn.CrossEntropyLoss()\n",
        "optimizer = torch.optim.Adam(model.parameters(), lr=learning_rate)  \n",
        "\n",
        "# Train the model\n",
        "n_total_steps = len(train_loader)\n",
        "for epoch in range(num_epochs):\n",
        "    for i, (images, labels) in enumerate(train_loader):  \n",
        "        # origin shape: [100, 1, 28, 28]\n",
        "        # resized: [100, 784]\n",
        "        images = images.reshape(-1, 28*28).to(device)\n",
        "        labels = labels.to(device)\n",
        "        \n",
        "        # Forward pass\n",
        "        outputs = model(images)\n",
        "        loss = criterion(outputs, labels)\n",
        "        \n",
        "        # Backward and optimize\n",
        "        optimizer.zero_grad()\n",
        "        loss.backward()\n",
        "        optimizer.step()\n",
        "        \n",
        "        if (i+1) % 100 == 0:\n",
        "            print (f'Epoch [{epoch+1}/{num_epochs}], Step [{i+1}/{n_total_steps}], Loss: {loss.item():.4f}')\n",
        "\n",
        "# Test the model\n",
        "# In test phase, we don't need to compute gradients (for memory efficiency)\n",
        "with torch.no_grad():\n",
        "    n_correct = 0\n",
        "    n_samples = 0\n",
        "    for images, labels in test_loader:\n",
        "        images = images.reshape(-1, 28*28).to(device)\n",
        "        labels = labels.to(device)\n",
        "        outputs = model(images)\n",
        "        # max returns (value ,index)\n",
        "        _, predicted = torch.max(outputs.data, 1)\n",
        "        n_samples += labels.size(0)\n",
        "        n_correct += (predicted == labels).sum().item()\n",
        "    \n",
        "    acc = 100.0 * n_correct / n_samples\n",
        "    print(f'Accuracy of the network on the 10000 test images: {acc} %')"
      ],
      "execution_count": 71,
      "outputs": [
        {
          "output_type": "display_data",
          "data": {
            "image/png": "[encoded data removed]",
            "text/plain": [
              "<Figure size 432x288 with 6 Axes>"
            ]
          },
          "metadata": {
            "needs_background": "light"
          }
        },
        {
          "output_type": "stream",
          "name": "stdout",
          "text": [
            "Epoch [1/2], Step [100/600], Loss: 0.4313\n",
            "Epoch [1/2], Step [200/600], Loss: 0.3320\n",
            "Epoch [1/2], Step [300/600], Loss: 0.1936\n",
            "Epoch [1/2], Step [400/600], Loss: 0.2376\n",
            "Epoch [1/2], Step [500/600], Loss: 0.1113\n",
            "Epoch [1/2], Step [600/600], Loss: 0.1579\n",
            "Epoch [2/2], Step [100/600], Loss: 0.1455\n",
            "Epoch [2/2], Step [200/600], Loss: 0.1027\n",
            "Epoch [2/2], Step [300/600], Loss: 0.0631\n",
            "Epoch [2/2], Step [400/600], Loss: 0.1244\n",
            "Epoch [2/2], Step [500/600], Loss: 0.0972\n",
            "Epoch [2/2], Step [600/600], Loss: 0.1522\n",
            "Accuracy of the network on the 10000 test images: 96.95 %\n"
          ]
        }
      ]
    },
    {
      "cell_type": "code",
      "metadata": {
        "id": "3uz7XdhyhkJW"
      },
      "source": [
        ""
      ],
      "execution_count": 62,
      "outputs": []
    },
    {
      "cell_type": "markdown",
      "metadata": {
        "id": "RoWWFsJAK89Q"
      },
      "source": [
        "**CNN : image classification based on cifar-10**\n",
        "\n",
        "\n",
        "\n",
        "\n"
      ]
    },
    {
      "cell_type": "code",
      "metadata": {
        "id": "zNvqOeEPAAz3"
      },
      "source": [
        "import torch\n",
        "import torchvision\n",
        "from torchvision import transforms as transforms\n",
        "import matplotlib.pyplot as plt\n",
        "import numpy as np\n",
        "import torch.nn.functional as F\n",
        "import torch.nn as nn"
      ],
      "execution_count": 6,
      "outputs": []
    },
    {
      "cell_type": "code",
      "metadata": {
        "colab": {
          "base_uri": "https://localhost:8080/",
          "height": 172
        },
        "id": "uFBSjCtWMWMa",
        "outputId": "23bf241a-b8e6-48b9-cddf-276eb50dfc5e"
      },
      "source": [
        "num_epochs = 5\n",
        "batch_size = 4\n",
        "learning_rate = 0.001\n",
        "\n",
        "device=torch.device('cuda' if torch.cuda.is_available() else 'cpu')\n",
        "\n",
        "\n",
        "transform =transforms.Compose([transforms.ToTensor(), transforms.Normalize((0.5,0.5,0.5),(0.5,0.5,0.5))])\n",
        "\n",
        "train_dataset=torchvision.datasets.CIFAR10(root='./data',transform=transform,train=True, download=True)\n",
        "\n",
        "test_dataset=torchvision.datasets.CIFAR10(root='./data',transform=transform,train=False,download=True)\n",
        "\n",
        "train_loader=torch.utils.data.DataLoader(train_dataset,batch_size=batch_size,shuffle=True)\n",
        "\n",
        "test_loader=torch.utils.data.DataLoader(test_dataset,batch_size=batch_size,shuffle=False)\n",
        "classes = ('plane', 'car', 'bird', 'cat',\n",
        "           'deer', 'dog', 'frog', 'horse', 'ship', 'truck')\n",
        "\n",
        "\n",
        "def imshow(img):\n",
        "    img = img / 2 + 0.5  # unnormalize\n",
        "    npimg = img.numpy()\n",
        "    plt.imshow(np.transpose(npimg, (1, 2, 0)))\n",
        "    plt.show()\n",
        "\n",
        "\n",
        "# get some random training images\n",
        "dataiter = iter(train_loader)\n",
        "images, labels = dataiter.next()\n",
        "\n",
        " #show images\n",
        "imshow(torchvision.utils.make_grid(images))\n"
      ],
      "execution_count": 50,
      "outputs": [
        {
          "output_type": "stream",
          "name": "stdout",
          "text": [
            "Files already downloaded and verified\n",
            "Files already downloaded and verified\n"
          ]
        },
        {
          "output_type": "display_data",
          "data": {
            "image/png": "[encoded data removed]",
            "text/plain": [
              "<Figure size 432x288 with 1 Axes>"
            ]
          },
          "metadata": {
            "needs_background": "light"
          }
        }
      ]
    },
    {
      "cell_type": "code",
      "metadata": {
        "id": "CWx-9GNjnPxM"
      },
      "source": [
        ""
      ],
      "execution_count": null,
      "outputs": []
    },
    {
      "cell_type": "code",
      "metadata": {
        "colab": {
          "base_uri": "https://localhost:8080/"
        },
        "id": "knHaIMxtYgFT",
        "outputId": "e423825d-569b-4a74-dc6a-cffbf64ebe13"
      },
      "source": [
        "class ConvNet(nn.Module):\n",
        "    def __init__(self):\n",
        "        super(ConvNet, self).__init__()\n",
        "        self.conv1 = nn.Conv2d(3, 6, 5)\n",
        "        self.pool = nn.MaxPool2d(2, 2)\n",
        "        self.conv2 = nn.Conv2d(6, 16, 5)\n",
        "        self.fc1 = nn.Linear(16 * 5 * 5, 120)\n",
        "        self.fc2 = nn.Linear(120, 84)\n",
        "        self.fc3 = nn.Linear(84, 10)\n",
        "\n",
        "    def forward(self, x):\n",
        "        # -> n, 3, 32, 32\n",
        "        x = self.pool(F.relu(self.conv1(x)))  # -> n, 6, 14, 14\n",
        "        x = self.pool(F.relu(self.conv2(x)))  # -> n, 16, 5, 5\n",
        "        x = x.view(-1, 16 * 5 * 5)            # -> n, 400\n",
        "        x = F.relu(self.fc1(x))               # -> n, 120\n",
        "        x = F.relu(self.fc2(x))               # -> n, 84\n",
        "        x = self.fc3(x)                       # -> n, 10\n",
        "        return x\n",
        "\n",
        "\n",
        "model = ConvNet().to(device)\n",
        "\n",
        "criterion = nn.CrossEntropyLoss()\n",
        "optimizer = torch.optim.SGD(model.parameters(), lr=learning_rate)\n",
        "\n",
        "n_total_steps = len(train_loader)\n",
        "for epoch in range(num_epochs):\n",
        "    for i, (images, labels) in enumerate(train_loader):\n",
        "        # origin shape: [4, 3, 32, 32] = 4, 3, 1024\n",
        "        # input_layer: 3 input channels, 6 output channels, 5 kernel size\n",
        "        images = images.to(device)\n",
        "        labels = labels.to(device)\n",
        "\n",
        "        # Forward pass\n",
        "        outputs = model(images)\n",
        "        loss = criterion(outputs, labels)\n",
        "\n",
        "        # Backward and optimize\n",
        "        optimizer.zero_grad()\n",
        "        loss.backward()\n",
        "        optimizer.step()\n",
        "\n",
        "        if (i+1) % 2000 == 0:\n",
        "            print (f'Epoch [{epoch+1}/{num_epochs}], Step [{i+1}/{n_total_steps}], Loss: {loss.item():.4f}')\n",
        "\n",
        "\n",
        "\n",
        "\n",
        "\n",
        "\n",
        "\n"
      ],
      "execution_count": 52,
      "outputs": [
        {
          "output_type": "stream",
          "name": "stdout",
          "text": [
            "Epoch [1/5], Step [2000/12500], Loss: 2.2956\n",
            "Epoch [1/5], Step [4000/12500], Loss: 2.2795\n",
            "Epoch [1/5], Step [6000/12500], Loss: 2.2828\n",
            "Epoch [1/5], Step [8000/12500], Loss: 2.3532\n",
            "Epoch [1/5], Step [10000/12500], Loss: 2.3047\n",
            "Epoch [1/5], Step [12000/12500], Loss: 2.0248\n",
            "Epoch [2/5], Step [2000/12500], Loss: 2.3169\n",
            "Epoch [2/5], Step [4000/12500], Loss: 3.5145\n",
            "Epoch [2/5], Step [6000/12500], Loss: 1.7573\n",
            "Epoch [2/5], Step [8000/12500], Loss: 2.5421\n",
            "Epoch [2/5], Step [10000/12500], Loss: 2.0421\n",
            "Epoch [2/5], Step [12000/12500], Loss: 2.0206\n",
            "Epoch [3/5], Step [2000/12500], Loss: 1.8209\n",
            "Epoch [3/5], Step [4000/12500], Loss: 1.5343\n",
            "Epoch [3/5], Step [6000/12500], Loss: 1.5667\n",
            "Epoch [3/5], Step [8000/12500], Loss: 1.6868\n",
            "Epoch [3/5], Step [10000/12500], Loss: 1.5645\n",
            "Epoch [3/5], Step [12000/12500], Loss: 1.3543\n",
            "Epoch [4/5], Step [2000/12500], Loss: 1.0179\n",
            "Epoch [4/5], Step [4000/12500], Loss: 1.5338\n",
            "Epoch [4/5], Step [6000/12500], Loss: 1.2002\n",
            "Epoch [4/5], Step [8000/12500], Loss: 1.2821\n",
            "Epoch [4/5], Step [10000/12500], Loss: 1.7645\n",
            "Epoch [4/5], Step [12000/12500], Loss: 1.5157\n",
            "Epoch [5/5], Step [2000/12500], Loss: 1.4534\n",
            "Epoch [5/5], Step [4000/12500], Loss: 1.7304\n",
            "Epoch [5/5], Step [6000/12500], Loss: 0.9090\n",
            "Epoch [5/5], Step [8000/12500], Loss: 1.4344\n",
            "Epoch [5/5], Step [10000/12500], Loss: 1.0940\n",
            "Epoch [5/5], Step [12000/12500], Loss: 2.3904\n"
          ]
        }
      ]
    },
    {
      "cell_type": "code",
      "metadata": {
        "colab": {
          "base_uri": "https://localhost:8080/"
        },
        "id": "wR8f1JP7Ygh6",
        "outputId": "790e528e-55bf-46df-f844-e8b47c62d035"
      },
      "source": [
        "print('Finished Training')\n",
        "PATH = './cnn.pth'\n",
        "torch.save(model.state_dict(), PATH)\n",
        "\n",
        "with torch.no_grad():\n",
        "    n_correct = 0\n",
        "    n_samples = 0\n",
        "    n_class_correct = [0 for i in range(10)]\n",
        "    n_class_samples = [0 for i in range(10)]\n",
        "    for images, labels in test_loader:\n",
        "        images = images.to(device)\n",
        "        labels = labels.to(device)\n",
        "        outputs = model(images)\n",
        "        # max returns (value ,index)\n",
        "        _, predicted = torch.max(outputs, 1)\n",
        "        n_samples += labels.size(0)\n",
        "        n_correct += (predicted == labels).sum().item()\n",
        "        \n",
        "        for i in range(4):\n",
        "            label = labels[i] \n",
        "            pred = predicted[i]\n",
        "            if (label == pred):\n",
        "                n_class_correct[label] += 1\n",
        "            n_class_samples[label] += 1\n",
        "\n",
        "    acc = 100.0 * n_correct / n_samples\n",
        "    print(f'Accuracy of the network: {acc} %')\n",
        "\n",
        "    for i in range(10):\n",
        "        acc = 100.0 * n_class_correct[i] / n_class_samples[i]\n",
        "        print(f'Accuracy of {classes[i]}: {acc} %')"
      ],
      "execution_count": 55,
      "outputs": [
        {
          "output_type": "stream",
          "name": "stdout",
          "text": [
            "Finished Training\n",
            "Accuracy of the network: 48.79 %\n",
            "Accuracy of plane: 59.6 %\n",
            "Accuracy of car: 56.7 %\n",
            "Accuracy of bird: 24.3 %\n",
            "Accuracy of cat: 27.1 %\n",
            "Accuracy of deer: 36.9 %\n",
            "Accuracy of dog: 45.2 %\n",
            "Accuracy of frog: 56.5 %\n",
            "Accuracy of horse: 65.5 %\n",
            "Accuracy of ship: 63.2 %\n",
            "Accuracy of truck: 52.9 %\n"
          ]
        }
      ]
    },
    {
      "cell_type": "code",
      "metadata": {
        "id": "hHOdnWcbQAOI"
      },
      "source": [
        "import torch\n",
        "import torch.nn as nn\n",
        "\n",
        "''' 3 DIFFERENT METHODS TO REMEMBER:\n",
        " - torch.save(arg, PATH) # can be model, tensor, or dictionary\n",
        " - torch.load(PATH)\n",
        " - torch.load_state_dict(arg)\n",
        "'''\n",
        "\n",
        "''' 2 DIFFERENT WAYS OF SAVING\n",
        "# 1) lazy way: save whole model\n",
        "torch.save(model, PATH)\n",
        "# model class must be defined somewhere\n",
        "model = torch.load(PATH)\n",
        "model.eval()\n",
        "# 2) recommended way: save only the state_dict\n",
        "torch.save(model.state_dict(), PATH)\n",
        "# model must be created again with parameters\n",
        "model = Model(*args, **kwargs)\n",
        "model.load_state_dict(torch.load(PATH))\n",
        "model.eval()\n",
        "'''\n",
        "\n",
        "\n",
        "class Model(nn.Module):\n",
        "    def __init__(self, n_input_features):\n",
        "        super(Model, self).__init__()\n",
        "        self.linear = nn.Linear(n_input_features, 1)\n",
        "\n",
        "    def forward(self, x):\n",
        "        y_pred = torch.sigmoid(self.linear(x))\n",
        "        return y_pred\n",
        "\n",
        "model = Model(n_input_features=6)\n",
        "# train your model...\n",
        "\n",
        "####################save all ######################################\n",
        "for param in model.parameters():\n",
        "    print(param)\n",
        "\n",
        "# save and load entire model\n",
        "\n",
        "FILE = \"model.pth\"\n",
        "torch.save(model, FILE)\n",
        "\n",
        "loaded_model = torch.load(FILE)\n",
        "loaded_model.eval()\n",
        "\n",
        "for param in loaded_model.parameters():\n",
        "    print(param)\n",
        "\n",
        "\n",
        "############save only state dict #########################\n",
        "\n",
        "# save only state dict\n",
        "FILE = \"model.pth\"\n",
        "torch.save(model.state_dict(), FILE)\n",
        "\n",
        "print(model.state_dict())\n",
        "loaded_model = Model(n_input_features=6)\n",
        "loaded_model.load_state_dict(torch.load(FILE)) # it takes the loaded dictionary, not the path file itself\n",
        "loaded_model.eval()\n",
        "\n",
        "print(loaded_model.state_dict())\n",
        "\n",
        "\n",
        "###########load checkpoint#####################\n",
        "learning_rate = 0.01\n",
        "optimizer = torch.optim.SGD(model.parameters(), lr=learning_rate)\n",
        "\n",
        "checkpoint = {\n",
        "\"epoch\": 90,\n",
        "\"model_state\": model.state_dict(),\n",
        "\"optim_state\": optimizer.state_dict()\n",
        "}\n",
        "print(optimizer.state_dict())\n",
        "FILE = \"checkpoint.pth\"\n",
        "torch.save(checkpoint, FILE)\n",
        "\n",
        "model = Model(n_input_features=6)\n",
        "optimizer = optimizer = torch.optim.SGD(model.parameters(), lr=0)\n",
        "\n",
        "checkpoint = torch.load(FILE)\n",
        "model.load_state_dict(checkpoint['model_state'])\n",
        "optimizer.load_state_dict(checkpoint['optim_state'])\n",
        "epoch = checkpoint['epoch']\n",
        "\n",
        "model.eval()\n",
        "# - or -\n",
        "# model.train()\n",
        "\n",
        "print(optimizer.state_dict())\n",
        "\n",
        "# Remember that you must call model.eval() to set dropout and batch normalization layers \n",
        "# to evaluation mode before running inference. Failing to do this will yield \n",
        "# inconsistent inference results. If you wish to resuming training, \n",
        "# call model.train() to ensure these layers are in training mode.\n",
        "\n",
        "\"\"\" SAVING ON GPU/CPU \n",
        "# 1) Save on GPU, Load on CPU\n",
        "device = torch.device(\"cuda\")\n",
        "model.to(device)\n",
        "torch.save(model.state_dict(), PATH)\n",
        "device = torch.device('cpu')\n",
        "model = Model(*args, **kwargs)\n",
        "model.load_state_dict(torch.load(PATH, map_location=device))\n",
        "# 2) Save on GPU, Load on GPU\n",
        "device = torch.device(\"cuda\")\n",
        "model.to(device)\n",
        "torch.save(model.state_dict(), PATH)\n",
        "model = Model(*args, **kwargs)\n",
        "model.load_state_dict(torch.load(PATH))\n",
        "model.to(device)\n",
        "# Note: Be sure to use the .to(torch.device('cuda')) function \n",
        "# on all model inputs, too!\n",
        "# 3) Save on CPU, Load on GPU\n",
        "torch.save(model.state_dict(), PATH)\n",
        "device = torch.device(\"cuda\")\n",
        "model = Model(*args, **kwargs)\n",
        "model.load_state_dict(torch.load(PATH, map_location=\"cuda:0\"))  # Choose whatever GPU device number you want\n",
        "model.to(device)\n",
        "# This loads the model to a given GPU device. \n",
        "# Next, be sure to call model.to(torch.device('cuda')) to convert the model’s parameter tensors to CUDA tensors\n",
        "\"\"\""
      ],
      "execution_count": null,
      "outputs": []
    }
  ]
}